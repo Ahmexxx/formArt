{
 "cells": [
  {
   "cell_type": "code",
   "execution_count": null,
   "metadata": {},
   "outputs": [],
   "source": [
    "\n",
    "#ESERCIZIO GEOMETRIA#\n",
    "\n",
    "\n",
    "def p_a_rettangolo(a:int, b:int):\n",
    "    '''questa funzione calcola il perimetro e l'area di un rettangolo'''\n",
    "    print('funzione perimetro e area di un rettangolo:')\n",
    "    p_rettangolo = a + b\n",
    "    a_rettangolo = a * b\n",
    "    print('''il perimetro del rettangolo è '''+str(p_rettangolo),''', invece l'area è '''+str(a_rettangolo))\n",
    "    return p_rettangolo, a_rettangolo\n",
    "\n",
    "x = int(input('inserisci lunghezza lato minore'))\n",
    "y = int(input('inserisci lunghezza lato maggiore'))\n",
    "perimetro_r, area_r = p_a_rettangolo(a,b)\n",
    "print(perimetro_r, area_r)\n",
    "\n",
    "\n",
    "\n"
   ]
  },
  {
   "cell_type": "code",
   "execution_count": null,
   "metadata": {},
   "outputs": [],
   "source": [
    "import numpy as np\n",
    "def c_a_cerchio(a:int):\n",
    "    '''questa funzione calcola la circonferenza e l'area di un cerchio'''\n",
    "    print('funzione circonferenza e area di un cerchio:')\n",
    "    c_cerchio = 2 * np.pi * a\n",
    "    a_cerchio = (a**2) * np.pi\n",
    "    print('''la circonferenza del raggio è '''+str(c_cerchio),''' invece l'area è '''+str(a_cerchio))\n",
    "    return c_cerchio, a_cerchio\n",
    "\n",
    "x = int(input('inserisci raggio cerchio'))\n",
    "circonferenza , area = c_a_cerchio(x) \n",
    "print(circonferenza, area)"
   ]
  }
 ],
 "metadata": {
  "kernelspec": {
   "display_name": "Python 3",
   "language": "python",
   "name": "python3"
  },
  "language_info": {
   "name": "python",
   "version": "3.10.10"
  },
  "orig_nbformat": 4
 },
 "nbformat": 4,
 "nbformat_minor": 2
}
